{
 "cells": [
  {
   "cell_type": "markdown",
   "id": "0a2b93ef-e54f-4a7b-b2c7-8b86fb0f15e1",
   "metadata": {},
   "source": [
    "# My Jupyter Notebook on IBM Watson Studio"
   ]
  },
  {
   "cell_type": "markdown",
   "id": "6a1c00ad-ed9f-4d05-bb93-8f8fc85d5bb6",
   "metadata": {},
   "source": [
    "**Vimal Minsariya** \n",
    "\n",
    "Data Scientist"
   ]
  },
  {
   "cell_type": "markdown",
   "id": "445b76e0-905a-4502-8a1a-99ae50117fbb",
   "metadata": {},
   "source": [
    "*I am interested in Data Science because data has the power and capacity to create revolutionary change in the way we understand modern problems and take steps to solve them. Data can help us make accurate and precise predictions for the future and can offer Business Insights that can be very useful*"
   ]
  },
  {
   "cell_type": "markdown",
   "id": "aab04e55-709a-410a-9cf4-0ad1172e04d2",
   "metadata": {},
   "source": [
    "### The code adds the numbers and gives the resultant output"
   ]
  },
  {
   "cell_type": "code",
   "execution_count": 2,
   "id": "1c664d3a-afdf-44b7-94a0-5a5c85203806",
   "metadata": {},
   "outputs": [
    {
     "name": "stdout",
     "output_type": "stream",
     "text": [
      "7\n"
     ]
    }
   ],
   "source": [
    "def sum(a, b):\n",
    "    sum = a + b\n",
    "    print(sum)\n",
    "\n",
    "sum(3,4)"
   ]
  },
  {
   "cell_type": "markdown",
   "id": "c4213860-9de0-40c1-a557-6aca09b14061",
   "metadata": {},
   "source": [
    "* one\n",
    "***\n",
    "* two\n",
    "***\n",
    "* three\n",
    "***\n",
    "* one\n",
    "***\n",
    "* two\n",
    "***\n",
    "* three\n",
    "\n",
    "|Name |Age|Sex  |\n",
    "|-----|---|-----|\n",
    "|Vimal| 20| Male|\n",
    "|Ritin| 20| Male|\n",
    "|Dhruv| 20| Male|"
   ]
  },
  {
   "cell_type": "code",
   "execution_count": null,
   "id": "062469d3-3989-48fa-830e-41790b4e3604",
   "metadata": {},
   "outputs": [],
   "source": []
  }
 ],
 "metadata": {
  "kernelspec": {
   "display_name": "Python",
   "language": "python",
   "name": "conda-env-python-py"
  },
  "language_info": {
   "codemirror_mode": {
    "name": "ipython",
    "version": 3
   },
   "file_extension": ".py",
   "mimetype": "text/x-python",
   "name": "python",
   "nbconvert_exporter": "python",
   "pygments_lexer": "ipython3",
   "version": "3.7.12"
  }
 },
 "nbformat": 4,
 "nbformat_minor": 5
}
